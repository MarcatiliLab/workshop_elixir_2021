{
 "cells": [
  {
   "cell_type": "code",
   "execution_count": 96,
   "id": "5caf9303",
   "metadata": {},
   "outputs": [],
   "source": [
    "import glob\n",
    "import torch\n",
    "\n",
    "from Bio import SeqIO\n",
    "import re\n",
    "import numpy as np\n",
    "from torch.utils.data import Dataset, DataLoader\n",
    "\n",
    "\n",
    "embedding_dir='/Users/pamar/Desktop/projects/workshop_elixir/data'\n",
    "\n",
    "def stack_res_tensors(tensors, embedding_dim=1280):\n",
    "    # Prepare to stack tensors\n",
    "    n_seqs = len(tensors)\n",
    "    seq_max_length = max([t.shape[0] for t in tensors])\n",
    "    # Initialize empty padded vector, with 0-padding for sequences with less than max length residues\n",
    "    fill_tensor = torch.zeros(size=(n_seqs, seq_max_length, embedding_dim))\n",
    "\n",
    "    # Load torch tensors from ESM embeddings matching sequence, fill padded tensor\n",
    "    for i, tensor in enumerate(tensors):\n",
    "        fill_tensor[i, 0:tensor.shape[0]] = tensor\n",
    "\n",
    "    fill_tensor=torch.permute(fill_tensor, (0, 2, 1))\n",
    "\n",
    "    return(fill_tensor)\n",
    "\n",
    "def stack_labels(lists):\n",
    "    # Prepare to stack tensors\n",
    "    n_seqs = len(lists)\n",
    "    seq_max_length = max([len(t) for t in tensors])\n",
    "    # Initialize empty padded vector, with 0-padding for sequences with less than max length residues\n",
    "    fill_tensor = 2*torch.ones((n_seqs, seq_max_length))\n",
    "    fill_tensor=fill_tensor.long()\n",
    "    # Load torch tensors from ESM embeddings matching sequence, fill padded tensor\n",
    "    for i, tensor in enumerate(lists):\n",
    "        fill_tensor[i, 0:len(tensor)] = torch.LongTensor(tensor)\n",
    "        \n",
    "    return(fill_tensor)\n",
    "\n",
    "def oneHot(seq):\n",
    "    keys = ['A','C','D','E','F','G','H','I','K','L','M','N','P','Q','R','S','T','V','W','Y']\n",
    "    values = np.eye(20)\n",
    "    one_hot_enc = dict(zip(keys, values))\n",
    "    out=np.empty((0,20), int)\n",
    "    for residue in seq:\n",
    "        if (residue.upper() in one_hot_enc.keys()):\n",
    "            out=np.vstack((out,one_hot_enc[residue.upper()]))\n",
    "        else:\n",
    "            out=np.vstack((out,np.zeros(1,20)))\n",
    "    return(out)\n",
    "    \n",
    "\n",
    "tensors = []\n",
    "labels=[]\n",
    "\n",
    "for record in SeqIO.parse(\"../data/bepipred3_50ID.fasta\", \"fasta\"):\n",
    "    file=embedding_dir+\"/\"+record.id+\".pt\"\n",
    "    tensor = torch.load(file)\n",
    "    tensor1=torch.from_numpy(oneHot(record.seq))\n",
    "    tensor1=torch.cat([tensor1,tensor],dim=1)\n",
    "    tensors.append(tensor1)\n",
    "    y=[1 if x.isupper() else 0 for x in record.seq]\n",
    "    labels.append(y)\n",
    "\n",
    "\n",
    "stacked_tensor = stack_res_tensors(tensors,50)\n",
    "stacked_labels = stack_labels(labels)\n",
    "\n",
    "\n",
    "\n"
   ]
  },
  {
   "cell_type": "code",
   "execution_count": 97,
   "id": "3e2a20d3",
   "metadata": {},
   "outputs": [
    {
     "data": {
      "text/plain": [
       "tensor([[0, 0, 0,  ..., 2, 2, 2],\n",
       "        [0, 0, 0,  ..., 2, 2, 2],\n",
       "        [0, 0, 0,  ..., 2, 2, 2],\n",
       "        ...,\n",
       "        [0, 0, 0,  ..., 2, 2, 2],\n",
       "        [0, 0, 0,  ..., 2, 2, 2],\n",
       "        [1, 1, 1,  ..., 2, 2, 2]])"
      ]
     },
     "execution_count": 97,
     "metadata": {},
     "output_type": "execute_result"
    }
   ],
   "source": [
    "stacked_labels"
   ]
  },
  {
   "cell_type": "code",
   "execution_count": 98,
   "id": "4dbbcbe5",
   "metadata": {},
   "outputs": [
    {
     "name": "stdout",
     "output_type": "stream",
     "text": [
      "323\n",
      "20\n",
      "torch.Size([343, 933])\n"
     ]
    }
   ],
   "source": [
    "from torch.utils.data import Dataset\n",
    "\n",
    "class EpitopeDataset(Dataset):\n",
    "    def __init__(self,embeddings,labels,batch=4):\n",
    "        self.embeddings = embeddings\n",
    "        self.labels = labels\n",
    "\n",
    "    def __len__(self):\n",
    "        return (self.embeddings).shape[0]\n",
    "\n",
    "    def __getitem__(self,idx):\n",
    "        return self.embeddings[idx] , self.labels[idx]\n",
    "\n",
    "dataset= EpitopeDataset(stacked_tensor[0:-20],stacked_labels[0:-20])\n",
    "validation= EpitopeDataset(stacked_tensor[-20:],stacked_labels[-20:])\n",
    "\n",
    "print(len(dataset))\n",
    "print(len(validation))\n",
    "print(stacked_labels.shape)\n",
    "\n"
   ]
  },
  {
   "cell_type": "code",
   "execution_count": 99,
   "id": "00e0132e",
   "metadata": {},
   "outputs": [
    {
     "data": {
      "text/plain": [
       "torch.Tensor"
      ]
     },
     "execution_count": 99,
     "metadata": {},
     "output_type": "execute_result"
    }
   ],
   "source": [
    "type(stacked_tensor)"
   ]
  },
  {
   "cell_type": "code",
   "execution_count": 100,
   "id": "09370ac7",
   "metadata": {},
   "outputs": [],
   "source": [
    "import torch.optim as optim\n",
    "import torch.nn as nn\n",
    "import sklearn\n",
    "from sklearn.metrics import roc_curve\n",
    "from sklearn.metrics import roc_auc_score\n",
    "from sklearn.metrics import matthews_corrcoef\n",
    "\n",
    "class Simple1DCNN(torch.nn.Module):\n",
    "    def __init__(self):\n",
    "        super(Simple1DCNN, self).__init__()\n",
    "        self.layer1 = torch.nn.Conv1d(in_channels=50, out_channels=20, kernel_size=5, stride=1,padding='same')\n",
    "        self.act1 = torch.nn.ReLU()\n",
    "        self.layer2 = torch.nn.Conv1d(in_channels=20, out_channels=10, kernel_size=3,padding='same')\n",
    "        self.layer3 = torch.nn.Conv1d(in_channels=10, out_channels=2, kernel_size=1,padding='same')\n",
    "        self.drop = nn.Dropout(p=0.5)\n",
    "\n",
    "    def forward(self, x):\n",
    "        x = self.layer1(x)\n",
    "        x = self.drop(x)\n",
    "        x = self.act1(x)\n",
    "        x = self.layer2(x)\n",
    "        x = self.drop(x)\n",
    "        x = self.act1(x)\n",
    "        x = self.layer3(x)\n",
    "\n",
    "        return x\n",
    "\n",
    "net = Simple1DCNN()"
   ]
  },
  {
   "cell_type": "code",
   "execution_count": 101,
   "id": "740f9dc1",
   "metadata": {},
   "outputs": [],
   "source": [
    "\n",
    "\n",
    "criterion= nn.CrossEntropyLoss(ignore_index=2)\n",
    "\n",
    "\n",
    "#def criterion(output,labels):\n",
    "    \n",
    "    \n",
    "    \n",
    "    \n",
    "optimizer = optim.SGD(net.parameters(), lr=0.01, momentum=0.5)\n",
    "#scheduler = optim.ExponentialLR(optimizer, gamma=0.9)\n",
    "\n",
    "trainloader = torch.utils.data.DataLoader(dataset, batch_size=4, shuffle=True)\n",
    "validloader = torch.utils.data.DataLoader(validation, batch_size=1)\n"
   ]
  },
  {
   "cell_type": "code",
   "execution_count": 112,
   "id": "7c1e51f0",
   "metadata": {},
   "outputs": [],
   "source": [
    "def get_labels_preds_and_posprob_without_padding(model_output, labels):\n",
    "    from torch.nn import Softmax\n",
    "    y_true = list()\n",
    "    y_pos_prob_no_padding = list()\n",
    "    y_preds_no_padding = list()\n",
    "    labels = labels.cpu().detach().numpy()\n",
    "    num_of_labels = len(labels)\n",
    "    softmax_function = Softmax(dim=1)\n",
    "    class_probs = softmax_function(model_output)\n",
    "    all_pos_probs = class_probs[:, 1].cpu().detach().numpy()\n",
    "#    _, preds = torch.max(class_probs, 1)\n",
    "    #epitope probs (need to ignoore padding from these)\n",
    "    #get true labels, predictions and positive probs. without padding = 2\n",
    "    for i in range(num_of_labels):\n",
    "        #if padding\n",
    "        if labels[i] == 2:\n",
    "            pass\n",
    "        #if non-epitope or epitope\n",
    "        else:\n",
    "            y_true.append(labels[i])\n",
    "            y_pos_prob_no_padding.append(all_pos_probs[i])\n",
    "#            y_preds_no_padding.append(preds[i])\n",
    "    return y_true, y_pos_prob_no_padding #, y_preds_no_padding"
   ]
  },
  {
   "cell_type": "code",
   "execution_count": 114,
   "id": "85317c17",
   "metadata": {},
   "outputs": [
    {
     "name": "stderr",
     "output_type": "stream",
     "text": [
      "/var/folders/3p/wvb8p22d05v22prml4t_1b9w0000gp/T/ipykernel_60139/3901187107.py:26: UserWarning: To copy construct from a tensor, it is recommended to use sourceTensor.clone().detach() or sourceTensor.clone().detach().requires_grad_(True), rather than torch.tensor(sourceTensor).\n",
      "  loss = criterion(torch.squeeze(outputs), torch.tensor(labels))\n"
     ]
    },
    {
     "ename": "IndexError",
     "evalue": "index 933 is out of bounds for axis 0 with size 323",
     "output_type": "error",
     "traceback": [
      "\u001b[0;31m---------------------------------------------------------------------------\u001b[0m",
      "\u001b[0;31mIndexError\u001b[0m                                Traceback (most recent call last)",
      "\u001b[0;32m/var/folders/3p/wvb8p22d05v22prml4t_1b9w0000gp/T/ipykernel_60139/3901187107.py\u001b[0m in \u001b[0;36m<module>\u001b[0;34m\u001b[0m\n\u001b[1;32m     26\u001b[0m     \u001b[0mloss\u001b[0m \u001b[0;34m=\u001b[0m \u001b[0mcriterion\u001b[0m\u001b[0;34m(\u001b[0m\u001b[0mtorch\u001b[0m\u001b[0;34m.\u001b[0m\u001b[0msqueeze\u001b[0m\u001b[0;34m(\u001b[0m\u001b[0moutputs\u001b[0m\u001b[0;34m)\u001b[0m\u001b[0;34m,\u001b[0m \u001b[0mtorch\u001b[0m\u001b[0;34m.\u001b[0m\u001b[0mtensor\u001b[0m\u001b[0;34m(\u001b[0m\u001b[0mlabels\u001b[0m\u001b[0;34m)\u001b[0m\u001b[0;34m)\u001b[0m\u001b[0;34m\u001b[0m\u001b[0;34m\u001b[0m\u001b[0m\n\u001b[1;32m     27\u001b[0m     \u001b[0mtraining_plot\u001b[0m\u001b[0;34m.\u001b[0m\u001b[0mappend\u001b[0m\u001b[0;34m(\u001b[0m\u001b[0mloss\u001b[0m\u001b[0;34m.\u001b[0m\u001b[0mitem\u001b[0m\u001b[0;34m(\u001b[0m\u001b[0;34m)\u001b[0m\u001b[0;34m)\u001b[0m\u001b[0;34m\u001b[0m\u001b[0;34m\u001b[0m\u001b[0m\n\u001b[0;32m---> 28\u001b[0;31m     \u001b[0mlabels\u001b[0m\u001b[0;34m,\u001b[0m \u001b[0moutputs\u001b[0m\u001b[0;34m=\u001b[0m \u001b[0mget_labels_preds_and_posprob_without_padding\u001b[0m\u001b[0;34m(\u001b[0m \u001b[0moutputs\u001b[0m\u001b[0;34m,\u001b[0m\u001b[0mlabels\u001b[0m\u001b[0;34m.\u001b[0m\u001b[0mflatten\u001b[0m\u001b[0;34m(\u001b[0m\u001b[0;34m)\u001b[0m \u001b[0;34m)\u001b[0m\u001b[0;34m\u001b[0m\u001b[0;34m\u001b[0m\u001b[0m\n\u001b[0m\u001b[1;32m     29\u001b[0m     \u001b[0mauc_train_plot\u001b[0m\u001b[0;34m.\u001b[0m\u001b[0mappend\u001b[0m\u001b[0;34m(\u001b[0m\u001b[0mroc_auc_score\u001b[0m\u001b[0;34m(\u001b[0m\u001b[0mlabels\u001b[0m\u001b[0;34m,\u001b[0m \u001b[0moutputs\u001b[0m\u001b[0;34m)\u001b[0m\u001b[0;34m)\u001b[0m\u001b[0;34m\u001b[0m\u001b[0;34m\u001b[0m\u001b[0m\n\u001b[1;32m     30\u001b[0m     \u001b[0mmcc_train_plot\u001b[0m\u001b[0;34m.\u001b[0m\u001b[0mappend\u001b[0m\u001b[0;34m(\u001b[0m\u001b[0mmatthews_corrcoef\u001b[0m\u001b[0;34m(\u001b[0m\u001b[0mlabels\u001b[0m\u001b[0;34m,\u001b[0m \u001b[0moutputs\u001b[0m\u001b[0;34m>\u001b[0m\u001b[0;36m.1\u001b[0m\u001b[0;34m)\u001b[0m\u001b[0;34m)\u001b[0m\u001b[0;34m\u001b[0m\u001b[0;34m\u001b[0m\u001b[0m\n",
      "\u001b[0;32m/var/folders/3p/wvb8p22d05v22prml4t_1b9w0000gp/T/ipykernel_60139/574903486.py\u001b[0m in \u001b[0;36mget_labels_preds_and_posprob_without_padding\u001b[0;34m(model_output, labels)\u001b[0m\n\u001b[1;32m     19\u001b[0m         \u001b[0;32melse\u001b[0m\u001b[0;34m:\u001b[0m\u001b[0;34m\u001b[0m\u001b[0;34m\u001b[0m\u001b[0m\n\u001b[1;32m     20\u001b[0m             \u001b[0my_true\u001b[0m\u001b[0;34m.\u001b[0m\u001b[0mappend\u001b[0m\u001b[0;34m(\u001b[0m\u001b[0mlabels\u001b[0m\u001b[0;34m[\u001b[0m\u001b[0mi\u001b[0m\u001b[0;34m]\u001b[0m\u001b[0;34m)\u001b[0m\u001b[0;34m\u001b[0m\u001b[0;34m\u001b[0m\u001b[0m\n\u001b[0;32m---> 21\u001b[0;31m             \u001b[0my_pos_prob_no_padding\u001b[0m\u001b[0;34m.\u001b[0m\u001b[0mappend\u001b[0m\u001b[0;34m(\u001b[0m\u001b[0mall_pos_probs\u001b[0m\u001b[0;34m[\u001b[0m\u001b[0mi\u001b[0m\u001b[0;34m]\u001b[0m\u001b[0;34m)\u001b[0m\u001b[0;34m\u001b[0m\u001b[0;34m\u001b[0m\u001b[0m\n\u001b[0m\u001b[1;32m     22\u001b[0m \u001b[0;31m#            y_preds_no_padding.append(preds[i])\u001b[0m\u001b[0;34m\u001b[0m\u001b[0;34m\u001b[0m\u001b[0m\n\u001b[1;32m     23\u001b[0m     \u001b[0;32mreturn\u001b[0m \u001b[0my_true\u001b[0m\u001b[0;34m,\u001b[0m \u001b[0my_pos_prob_no_padding\u001b[0m \u001b[0;31m#, y_preds_no_padding\u001b[0m\u001b[0;34m\u001b[0m\u001b[0;34m\u001b[0m\u001b[0m\n",
      "\u001b[0;31mIndexError\u001b[0m: index 933 is out of bounds for axis 0 with size 323"
     ]
    }
   ],
   "source": [
    "def weight_reset(m):\n",
    "    if isinstance(m, nn.Conv1d) or isinstance(m, nn.Linear):\n",
    "        m.reset_parameters()\n",
    "\n",
    "\n",
    "net.apply(weight_reset)\n",
    "losses=[]\n",
    "training_plot=[]\n",
    "validation_plot=[]\n",
    "auc_train_plot=[]\n",
    "auc_valid_plot=[]\n",
    "mcc_train_plot=[]\n",
    "mcc_valid_plot=[]\n",
    "\n",
    "last_score=9999999\n",
    "es_rounds = 2\n",
    "best_epoch= 0\n",
    "\n",
    "# print statistics\n",
    "with torch.no_grad():\n",
    "    valid_loss=0\n",
    "    train_loss=0\n",
    "    net.eval()\n",
    "    inputs, labels = dataset[:]\n",
    "    outputs = net(inputs)\n",
    "    loss = criterion(torch.squeeze(outputs), torch.tensor(labels))\n",
    "    training_plot.append(loss.item())\n",
    "    labels, outputs= get_labels_preds_and_posprob_without_padding( outputs,labels.flatten() )\n",
    "    auc_train_plot.append(roc_auc_score(labels, outputs))\n",
    "    mcc_train_plot.append(matthews_corrcoef(labels, outputs>.1))\n",
    "\n",
    "    inputs, labels = validation[:]\n",
    "    outputs = net(inputs)\n",
    "    loss = criterion(torch.squeeze(outputs), torch.tensor(labels))\n",
    "    validation_plot.append(loss.item())\n",
    "    labels, outputs= get_labels_preds_and_posprob_without_padding( outputs,labels.flatten() )\n",
    "    auc_valid_plot.append(roc_auc_score(labels, outputs))\n",
    "    mcc_valid_plot.append(matthews_corrcoef(labels, outputs>.1))\n",
    "    \n",
    "\n",
    "\n",
    "\n",
    "\n",
    "for epoch in range(50):  # loop over the dataset multiple times\n",
    "    net.train()\n",
    "    print(\"Epoch {}, initial training loss {}, initial validation loss {}\".format(epoch, training_plot[-1], validation_plot[-1]))\n",
    "    print(\"Epoch {}, initial training MCC {}, initial validation MCC {}\".format(epoch, mcc_train_plot[-1], mcc_valid_plot[-1]))\n",
    "\n",
    "    for i, data in enumerate(trainloader,0):\n",
    "\n",
    "        # get the inputs; data is a list of [inputs, labels]\n",
    "        inputs, labels = data\n",
    "        \n",
    "        # zero the parameter gradients\n",
    "        optimizer.zero_grad()\n",
    "        #scheduler.step()     \n",
    "        # forward + backward + optimize\n",
    "        outputs = net(inputs)\n",
    "        loss = criterion(torch.squeeze(outputs), torch.squeeze(labels))\n",
    "        loss.backward()\n",
    "        optimizer.step()\n",
    "# print statistics\n",
    "    with torch.no_grad():\n",
    "        valid_loss=0\n",
    "        train_loss=0\n",
    "        net.eval()\n",
    "        inputs, labels = dataset[:]\n",
    "        outputs = net(inputs)\n",
    "        loss = criterion(torch.squeeze(outputs), torch.tensor(labels))\n",
    "        training_plot.append(loss.item())\n",
    "        labels, outputs= get_labels_preds_and_posprob_without_padding( outputs.flatten(),labels.flatten() )\n",
    "        auc_train_plot.append(roc_auc_score(labels, outputs))\n",
    "        mcc_train_plot.append(matthews_corrcoef(labels, outputs>.1))\n",
    "\n",
    "        inputs, labels = validation[:]\n",
    "        outputs = net(inputs)\n",
    "        loss = criterion(torch.squeeze(outputs), torch.tensor(labels))\n",
    "        validation_plot.append(loss.item())\n",
    "        labels, outputs= get_labels_preds_and_posprob_without_padding( outputs.flatten(),labels.flatten() )\n",
    "        auc_valid_plot.append(roc_auc_score(labels, outputs))\n",
    "        mcc_valid_plot.append(matthews_corrcoef(labels, outputs>.1))\n",
    "\n",
    "        \n",
    "        \n",
    "    if last_score > loss:\n",
    "        last_score = loss\n",
    "        best_epoch = epoch\n",
    "        es_rounds = 2\n",
    "    else:\n",
    "        if es_rounds > 0:\n",
    "            es_rounds -=1\n",
    "        else:\n",
    "            print('EARLY-STOPPING !')\n",
    "            print('Best epoch found: nº {}'.format(best_epoch))\n",
    "            print('Exiting. . .')\n",
    "            break\n",
    "\n",
    "\n"
   ]
  },
  {
   "cell_type": "code",
   "execution_count": 108,
   "id": "63f5d214",
   "metadata": {},
   "outputs": [
    {
     "data": {
      "text/plain": [
       "tensor([0, 0, 0,  ..., 2, 2, 2])"
      ]
     },
     "execution_count": 108,
     "metadata": {},
     "output_type": "execute_result"
    }
   ],
   "source": [
    "labels.flatten()"
   ]
  },
  {
   "cell_type": "code",
   "execution_count": 65,
   "id": "3b613350",
   "metadata": {},
   "outputs": [
    {
     "data": {
      "image/png": "[encoded data removed]",
      "text/plain": [
       "<Figure size 1152x864 with 3 Axes>"
      ]
     },
     "metadata": {
      "needs_background": "light"
     },
     "output_type": "display_data"
    }
   ],
   "source": [
    "plt.figure(figsize=(16,12))\n",
    "plt.subplot(3, 1, 1)\n",
    "plt.title('Score per epoch')\n",
    "plt.ylabel('Binary Cross-entropy')\n",
    "# plt.plot(list(range(len(losses))), [x[0] for x in losses], label=['Trains BCE loss'])\n",
    "plt.plot(list(range(len(training_plot))), validation_plot, label=['Valids BCE loss'])\n",
    "plt.plot(list(range(len(training_plot))), training_plot, label=['Train BCE loss'])\n",
    "\n",
    "plt.legend()\n",
    "plt.subplot(3, 1, 2)\n",
    "plt.ylabel('ROC-AUC Score')\n",
    "# plt.plot(list(range(len(losses))), [x[2] for x in losses], label=['Trains ROC_AUC'])\n",
    "plt.plot(list(range(len(training_plot))), auc_valid_plot, label=['Valids ROC_AUC'])\n",
    "plt.plot(list(range(len(training_plot))), auc_train_plot, label=['Train ROC_AUC'])\n",
    "\n",
    "plt.subplot(3, 1, 3)\n",
    "plt.ylabel('MCC Score')\n",
    "# plt.plot(list(range(len(losses))), [x[2] for x in losses], label=['Trains ROC_AUC'])\n",
    "plt.plot(list(range(len(training_plot))), mcc_valid_plot, label=['Valids MCC'])\n",
    "plt.plot(list(range(len(training_plot))), mcc_train_plot, label=['Train MCC'])\n",
    "\n",
    "plt.xlabel('Epoch')\n",
    "\n",
    "\n",
    "plt.legend()\n",
    "plt.legend()\n",
    "plt.show()\n",
    "     "
   ]
  },
  {
   "cell_type": "code",
   "execution_count": null,
   "id": "5159daaa",
   "metadata": {},
   "outputs": [],
   "source": []
  },
  {
   "cell_type": "code",
   "execution_count": 63,
   "id": "a380f5b6",
   "metadata": {},
   "outputs": [
    {
     "ename": "RuntimeError",
     "evalue": "Boolean value of Tensor with more than one value is ambiguous",
     "output_type": "error",
     "traceback": [
      "\u001b[0;31m---------------------------------------------------------------------------\u001b[0m",
      "\u001b[0;31mRuntimeError\u001b[0m                              Traceback (most recent call last)",
      "\u001b[0;32m/var/folders/3p/wvb8p22d05v22prml4t_1b9w0000gp/T/ipykernel_60139/2023181069.py\u001b[0m in \u001b[0;36m<module>\u001b[0;34m\u001b[0m\n\u001b[0;32m----> 1\u001b[0;31m \u001b[0mmax\u001b[0m\u001b[0;34m(\u001b[0m\u001b[0mtorch\u001b[0m\u001b[0;34m.\u001b[0m\u001b[0msigmoid\u001b[0m\u001b[0;34m(\u001b[0m\u001b[0moutputs\u001b[0m\u001b[0;34m)\u001b[0m\u001b[0;34m)\u001b[0m\u001b[0;34m\u001b[0m\u001b[0;34m\u001b[0m\u001b[0m\n\u001b[0m",
      "\u001b[0;31mRuntimeError\u001b[0m: Boolean value of Tensor with more than one value is ambiguous"
     ]
    }
   ],
   "source": [
    "\n",
    "max(torch.sigmoid(outputs))"
   ]
  },
  {
   "cell_type": "code",
   "execution_count": null,
   "id": "f36d59a2",
   "metadata": {},
   "outputs": [],
   "source": []
  }
 ],
 "metadata": {
  "kernelspec": {
   "display_name": "Python 3 (ipykernel)",
   "language": "python",
   "name": "python3"
  },
  "language_info": {
   "codemirror_mode": {
    "name": "ipython",
    "version": 3
   },
   "file_extension": ".py",
   "mimetype": "text/x-python",
   "name": "python",
   "nbconvert_exporter": "python",
   "pygments_lexer": "ipython3",
   "version": "3.9.7"
  }
 },
 "nbformat": 4,
 "nbformat_minor": 5
}
